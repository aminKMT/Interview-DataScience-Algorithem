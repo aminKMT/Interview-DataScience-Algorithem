{
  "nbformat": 4,
  "nbformat_minor": 0,
  "metadata": {
    "colab": {
      "provenance": [],
      "authorship_tag": "ABX9TyPTUmdYM0u3dTgUjfLMrRhO",
      "include_colab_link": true
    },
    "kernelspec": {
      "name": "python3",
      "display_name": "Python 3"
    },
    "language_info": {
      "name": "python"
    }
  },
  "cells": [
    {
      "cell_type": "markdown",
      "metadata": {
        "id": "view-in-github",
        "colab_type": "text"
      },
      "source": [
        "<a href=\"https://colab.research.google.com/github/aminKMT/Interview-DataScience-Algorithem/blob/main/DataScience_Interview__Python.ipynb\" target=\"_parent\"><img src=\"https://colab.research.google.com/assets/colab-badge.svg\" alt=\"Open In Colab\"/></a>"
      ]
    },
    {
      "cell_type": "markdown",
      "source": [
        "1) FizzBuzz. Print numbers from 1 to 100\n",
        "\n",
        "If it’s a multiplier of 3, print “Fizz”\n",
        "If it’s a multiplier of 5, print “Buzz”\n",
        "If both 3 and 5 — “Fizz Buzz\"\n",
        "Otherwise, print the number itself\n",
        "Example of output: 1, 2, Fizz, 4, Buzz, Fizz, 7, 8, Fizz, Buzz, 11, Fizz, 13, 14, Fizz Buzz, 16, 17, Fizz, 19, Buzz, Fizz, 22, 23, Fizz, Buzz, 26, Fizz, 28, 29, Fizz Buzz, 31, 32, Fizz, 34, Buzz, Fizz, ..."
      ],
      "metadata": {
        "id": "Y11cg_IsuW4I"
      }
    },
    {
      "cell_type": "markdown",
      "source": [
        "Nore 1: for i  in range(1,101):\n",
        " print(i) will give you numbrs from 1 to 100\n",
        "\n",
        "Note 2: Explanation of %:\n",
        "% (Modulo Operator)\n",
        "The modulo operator % returns the remainder when one number is divided by another.\n",
        "For example:\n",
        "10 % 3 returns 1 because 10 ÷ 3 = 3 with a remainder of 1.\n",
        "15 % 5 returns 0 because 15 ÷ 5 = 3 with no remainder."
      ],
      "metadata": {
        "id": "3NShZmWTuWYe"
      }
    },
    {
      "cell_type": "code",
      "execution_count": null,
      "metadata": {
        "id": "Ue68uneLsnRQ"
      },
      "outputs": [],
      "source": [
        "for i  in range(1,101):\n",
        "  if i % 3 == 0 and i % 5 == 0 :\n",
        "    print('Fizz Buzz')\n",
        "  elif i % 3 == 0:\n",
        "    print('Fizz')\n",
        "  elif i %  5 == 0 :\n",
        "    print('Buzz')\n",
        "  else:\n",
        "    print(i);\n"
      ]
    },
    {
      "cell_type": "markdown",
      "source": [
        "2) Factorial. Calculate a factorial of a number\n",
        "\n",
        "factorial(5) = 5! = 1 * 2 * 3 * 4 * 5 = 120\n",
        "factorial(10) = 10! = 1 * 2 * 3 * 4 * 5 * 6 * 7 * 8 * 9 * 10 = 3628800"
      ],
      "metadata": {
        "id": "THxy0gB02PD1"
      }
    },
    {
      "cell_type": "code",
      "source": [
        "# solution 1:\n",
        "\n",
        "def factorial(number):\n",
        "  result = 1\n",
        "  for i in range(2, number +1):\n",
        "    result *= i\n",
        "  return result\n",
        "\n",
        "factorial(5)"
      ],
      "metadata": {
        "id": "-g-uUfP1uptp"
      },
      "execution_count": null,
      "outputs": []
    },
    {
      "cell_type": "code",
      "source": [
        "# Solition 2\n",
        "# except 0 and 1 we know that factorial of each niteger number equals the number times factorial of that number minus one.\n",
        "\n",
        "def factorial2(number: int):\n",
        "  if number == 0 or number == 1:\n",
        "    return 1\n",
        "  else:\n",
        "    return number * factorial2(number - 1)\n",
        "\n",
        "\n",
        "factorial2(3)"
      ],
      "metadata": {
        "colab": {
          "base_uri": "https://localhost:8080/"
        },
        "id": "oTMTiygX3PTw",
        "outputId": "0c23ff4b-1dbd-4467-d56d-0b86ee9e2f37"
      },
      "execution_count": 1,
      "outputs": [
        {
          "output_type": "execute_result",
          "data": {
            "text/plain": [
              "6"
            ]
          },
          "metadata": {},
          "execution_count": 1
        }
      ]
    },
    {
      "cell_type": "markdown",
      "source": [
        "3) Mean. Compute the mean of number in a list\n",
        "\n",
        "mean([4, 36, 45, 50, 75]) = 42\n",
        "mean([]) = NaN (use float('NaN'))"
      ],
      "metadata": {
        "id": "ZZwM7C0s6zqi"
      }
    },
    {
      "cell_type": "code",
      "source": [],
      "metadata": {
        "id": "9oEY7rP96WdP"
      },
      "execution_count": null,
      "outputs": []
    }
  ]
}