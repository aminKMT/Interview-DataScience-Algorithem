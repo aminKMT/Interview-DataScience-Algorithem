{
  "nbformat": 4,
  "nbformat_minor": 0,
  "metadata": {
    "colab": {
      "provenance": [],
      "authorship_tag": "ABX9TyMgc5M8WpSI/js1uPIowisj",
      "include_colab_link": true
    },
    "kernelspec": {
      "name": "python3",
      "display_name": "Python 3"
    },
    "language_info": {
      "name": "python"
    }
  },
  "cells": [
    {
      "cell_type": "markdown",
      "metadata": {
        "id": "view-in-github",
        "colab_type": "text"
      },
      "source": [
        "<a href=\"https://colab.research.google.com/github/aminKMT/Interview-DataScience-Algorithem/blob/main/DataScience_Interview__Python.ipynb\" target=\"_parent\"><img src=\"https://colab.research.google.com/assets/colab-badge.svg\" alt=\"Open In Colab\"/></a>"
      ]
    },
    {
      "cell_type": "markdown",
      "source": [
        "1) FizzBuzz. Print numbers from 1 to 100\n",
        "\n",
        "If it’s a multiplier of 3, print “Fizz”\n",
        "If it’s a multiplier of 5, print “Buzz”\n",
        "If both 3 and 5 — “Fizz Buzz\"\n",
        "Otherwise, print the number itself\n",
        "Example of output: 1, 2, Fizz, 4, Buzz, Fizz, 7, 8, Fizz, Buzz, 11, Fizz, 13, 14, Fizz Buzz, 16, 17, Fizz, 19, Buzz, Fizz, 22, 23, Fizz, Buzz, 26, Fizz, 28, 29, Fizz Buzz, 31, 32, Fizz, 34, Buzz, Fizz, ..."
      ],
      "metadata": {
        "id": "Y11cg_IsuW4I"
      }
    },
    {
      "cell_type": "markdown",
      "source": [
        "Nore 1: for i  in range(1,101):\n",
        " print(i) will give you numbrs from 1 to 100\n",
        "\n",
        "Note 2: Explanation of %:\n",
        "% (Modulo Operator)\n",
        "The modulo operator % returns the remainder when one number is divided by another.\n",
        "For example:\n",
        "10 % 3 returns 1 because 10 ÷ 3 = 3 with a remainder of 1.\n",
        "15 % 5 returns 0 because 15 ÷ 5 = 3 with no remainder."
      ],
      "metadata": {
        "id": "3NShZmWTuWYe"
      }
    },
    {
      "cell_type": "code",
      "execution_count": null,
      "metadata": {
        "id": "Ue68uneLsnRQ"
      },
      "outputs": [],
      "source": [
        "for i  in range(1,101):\n",
        "  if i % 3 == 0 and i % 5 == 0 :\n",
        "    print('Fizz Buzz')\n",
        "  elif i % 3 == 0:\n",
        "    print('Fizz')\n",
        "  elif i %  5 == 0 :\n",
        "    print('Buzz')\n",
        "  else:\n",
        "    print(i);\n"
      ]
    },
    {
      "cell_type": "markdown",
      "source": [
        "2) Factorial. Calculate a factorial of a number\n",
        "\n",
        "factorial(5) = 5! = 1 * 2 * 3 * 4 * 5 = 120\n",
        "factorial(10) = 10! = 1 * 2 * 3 * 4 * 5 * 6 * 7 * 8 * 9 * 10 = 3628800"
      ],
      "metadata": {
        "id": "THxy0gB02PD1"
      }
    },
    {
      "cell_type": "code",
      "source": [
        "# solution 1:\n",
        "\n",
        "def factorial(number):\n",
        "  result = 1\n",
        "  for i in range(2, number +1):\n",
        "    result *= i\n",
        "  return result\n",
        "\n",
        "factorial(5)"
      ],
      "metadata": {
        "id": "-g-uUfP1uptp"
      },
      "execution_count": null,
      "outputs": []
    },
    {
      "cell_type": "code",
      "source": [
        "# Solition 2\n",
        "# except 0 and 1 we know that factorial of each niteger number equals the number times factorial of that number minus one.\n",
        "\n",
        "def factorial2(number: int):\n",
        "  if number == 0 or number == 1:\n",
        "    return 1\n",
        "  else:\n",
        "    return number * factorial2(number - 1)\n",
        "\n",
        "\n",
        "factorial2(3)"
      ],
      "metadata": {
        "colab": {
          "base_uri": "https://localhost:8080/"
        },
        "id": "oTMTiygX3PTw",
        "outputId": "0c23ff4b-1dbd-4467-d56d-0b86ee9e2f37"
      },
      "execution_count": null,
      "outputs": [
        {
          "output_type": "execute_result",
          "data": {
            "text/plain": [
              "6"
            ]
          },
          "metadata": {},
          "execution_count": 1
        }
      ]
    },
    {
      "cell_type": "markdown",
      "source": [
        "3) Mean. Compute the mean of number in a list\n",
        "\n",
        "mean([4, 36, 45, 50, 75]) = 42\n",
        "mean([]) = NaN (use float('NaN'))\n",
        "\n",
        "\n",
        "\n",
        "![image.png](data:image/png;base64,iVBORw0KGgoAAAANSUhEUgAAAhoAAAB5CAIAAADwJB+sAAAAAXNSR0IArs4c6QAAAERlWElmTU0AKgAAAAgAAYdpAAQAAAABAAAAGgAAAAAAA6ABAAMAAAABAAEAAKACAAQAAAABAAACGqADAAQAAAABAAAAeQAAAACXj9AUAAAjXUlEQVR4Ae2df1AbV57gO2uKnrAl3bhOLs9GjGusxBV0diyWiRpngsazIPtGUrwBvGewbwDvBfBugNwhORfAU0akYsycLZgzkBsDs8OPKQdcY2DOQarDwhWPmLVpajRqKh4ph91cOVL2KHeGuaaOTbP4ct0SAgkQCKmRBPr2H9Dqfu/7vu/z+vW33/u+H899/fXXCBxAAAgAASAABMIj8GfhRYfYQAAIAAEgAAQ4AmBO4DkAAkAACAABHgiAOeEBIogAAkAACAABMCfwDAABIAAEgAAPBMCc8AARRAABIAAEgACYE3gGgAAQAAJAgAcCYE54gAgigAAQAAJAAMwJPANAAAgAASDAAwEwJzxABBFAAAgAASAA5gSeASAABIAAEOCBAJgTHiCCCCAABIAAEABzAs8AEAACQAAI8EAAzAkPEEEEEAACQAAIgDmBZwAIAAEgAAR4IADmhAeIIAIIAAEgAATAnMAzAASAABAAAjwQAHPCA0QQAQSAABAAAgmAYBsRcHbmqRvtiwrvK+oZ1Mm8BTj2QWb5r2cTExMRZH5+HhGdbDFVpW+jrIGqQAAIbHcCz8HmvtusCBmqt1JVP8ogiCj3Q5M+A13Sn57qrf6RwXW87vLfZUn3Ll9fCgAnQAAIAIGtIwCdXVvHdosk2x0OsSxNhCDUHZOFtSpLh/CbbNNEVlimBluyxAROgAAQiBgBMCcRQ81TQo9sNhQrf1sjRpDZT4wj9LJYhpiw70tPZQ0NHEAACACBiBMAcxJx5OEl6LTiTw9iqWlq9X7WnliG7i3bE4fVhqZhkvDkQ2wgAASAQGgEwJyExi1asegJKymVp6IJUo1aiiAMbjJTi7o4bVZaJk+JlmaQLhAAAnFOAMxJ0A/ADNFVqcqsswQdYQsCMgT+aXI65zhBJCo1O6yLGTeap90JzeD4lBSTgQd+C7CDSCAABIIgAOZkA0gM5bTfN3Y1lGWrCgwjrtk5X+f3BnH5v806ThJkh9luLvbYp9GkoWz7ZMjkZH+xhsa+H8N2u2/BHyAABIBAxAl4py1EPOFtkKCjOftMO7nAaYruFiBz0VfZ7TgpSl0sNJFShRlwC2E0kWdLZscJNO10cvR1BA2AABCIUwLQOglc8Hu/X/qevuFqa8/Ho6M9pSnRt7xex4lXZVGmRpGEII+Ghh6SuJWRpYHjxItmW/2nbpVlXzQvj6nYVsqvVHayveCUgXB/hK28FYe/44xG9N+RsfuM7Zap82SL6j2JATU9jpO3fQYC785QZwjMw6TxRrf4iVQNjpMYKKUQVKApyjVNz4cQMwajzDx1PaGfxqBiUVEpzmhA6yQqT1lIiT7CbYjXcbIoQKhQKQQI4rrdj+8Dx0lIVGMh0kJUHXKxQAB02BEEwJxsm2J0jtueylK9jpNFtdEMzTF3c0WclgqOk21Tlv6KgjHx5wG/tisBMCfbouQYytHf8isCRb5yrehiRzFVJmtPBDDjJMSCpIjeugLV63L5kcy8CoP5CYMsUJbr2jz20lFVcYPRuY3cAIzT0lGVd0wul7+uOq1tH2WnJDHksKEsN/P1I5nZFc0Wz5jyEEkFF+3ZDum0Cy63G4Xijwbt6K8/l80+p/LM7OIP+u3syCB26sKFAtVRtrAL9LfssfBRAr6TjR6IqN9nLFXHy4yzbj2+0Gff7S65MVix7HRH03M0EhP5fXCcbL6kmMle7dsG+4HC80014lnj1Qtd2nOu3JdsQ49Syy98KCGuVl2v1e1O6Tsn2bzszcR4tpnAgcLSRPs7b7dR6eVVHdhuV98HVc2V5GOVyDJMHXv38ofPj9TXtmsv7hm4ng+t2EAIY/a601hVUmsRndI1viOdv2+ouqYv/nwi3TVkExfWNJe72qsNl7SJ3x6swaI87QzMScw+Ql7FUEXDvYkG7681/h/UDf52jctwaQMCc0TLeYP9UHX3ldxkrh6Ic251EaPmfpc4v/NykWig+DzBGnHS4WAQSZSr6QY5YW/T5p9UNlPHWjv1Cq7zU1ao7uq/ZjcOktKyQf2bTPOZAe7zddLhWkDcmd1YIoSIFQKT7dXvW8RlPa1n3c/hy/mKDtx4v98sUjc2VGD3tap73MoY9kezSLTNCXR2xcozA3pEmAB582ovhZVXeWwJmzg965ladDi/MA1lJm0E9xOVyQ/HvC1BkIn2FhOirtS6bQkHkvHMt0UVeackyKydeMT1hQjSMCl8QHJ4ttFB9V/rdLx0tuZH3m+aufl5d3NW/MZp5W5kasLO9VwkSDD3YhnRzRg8XNHlD6lHiwA5YiQEx1s1e70KzDmISe5cgmFcd9DR8pZaqeN5LEe9ZucQ47yPz8sUEnbeTwwchHGI/HbO5aNCry4U8ZDkzg8q3AslaGoa5y1fiBTZyqUQ7E0K72rpNI49JClGIEpJVZ8qL1JLfAN4pcH/6BGgfmN8gCgu5kmWXtUOm437NhClv8ZNY5AVN+jFNuSgJne5A9yrraeffMbzE1XUmlpPeqcZTPcWv2kgkMTEXQjyjN1vT6b7dUf+Ul3wCtjs/yUdNxsRwgOBbU1AUtI5WpgoXG55fIrbuM88EXaEXVuT/dxLTj9ZtHo/S3qadNlx462u3t8KS28pJJ4FbzYmQTsfTn0ZwFv6eJpB6Cm7lVj7VZ6QKH5ZKlpWdI3EZJWDo5VC4VJtnrPZPuWCSeQytzFEJT/IX+H/oYxVxZ3fKPyxQfudb1AOc1uDob3KMjLR2F2lWFsNn2SpKcK1+JLyueo+/erRU+YZM2UliCVlfIMkIIIXZBLvO833zvY931oaotzWEQ3i85ySvye4vq2kVOygm5lIllvgnR63AqK7n7wOr88u7nUhjOX2kPNk0eLH0d78jnvKsabiEpOo4qo+Ly3ZJ4UVUjbxc80y30R8CAoEtiuBJL8atFhLBanYoUAZYoyVGbW4QCKVIpMuBtnwresjZ7JPV9BsX/C5svK0q+xs18pri79RxaWR1hPrJocK/W47cNxjGuVu07haLjPW1jSCpOle/E4yG1OI5Tf8lHGdNBA36lsyN/LoLoy1lZb0rjtIrLm4YHWaniuC7Na77yvWNY6Bosbk9a2ngfo9pxRu5dqdqAzD/Io8IJynn9npw5j0M9w+YTRNFZUsfQChom/sYsSqipLX1mx/BxS4zg0wJ+vAWesWL4Nw1hIM16JKwFtLD2WkBuy/QtVN42pOS7L9tMX+2Wb0PVDSZy0JFMF+LbvwYaHpei5fX+3kuPsDVoAFNI3TDvuXDGmqb5YpO864k92XpXzZQEy4LPccCBbga9eTgYT0mjsTNYEyc1+fWflVzWiDMk5eLRGmwbU7uUauJA0L7mmhJ3BSeqJDLSzUj9qHjGRJ2VIz1WkjGNnfru4jC1S0G1+PkzLfGER0QkyP9Zscs8j8/HrfrQFUC8mwCQ7n5L8W3HMYINmdeXnOhntqqdxvN0vWoY0mbbsvaQoft7PFhB7C/EwjwzC7UNRT4/di308TOUhJuoxdVMFzfEPw59wJPffV4gX4F4MEPvW0O8Uy+ZJVQJAFhplH0TU/g9iVmRzJ6e9IlUkKw6iZHB6yn6tYHI7h3tIii12VnL8DzAl/LEOQRJpaGvu5ntCIHfto6aCO3SgFDtphNo7TUlWujDWvi44TsSxtuZbSw1WqKlfp7Z4idiPlGD+mCeOIHZGp1QeFCGcaOXUlvqaRdb2+YRBeHGn0dJqh0pKOu37NpQXX1BN3rAOxn9sYLwx+1WPITwYs0+Kskwp2hDc5jnOvC4EM82lUEFezC+6r+2557YRv+u4tLVT7EeFetWK32ThlNE5USNO4EJ4tLap53dIC3iu+7CN+Li8ufe1O/X2un3vxYOt5Z3fFwSA+GbwNGtbzycVlmNl/pr+iZ7/k1hN0uZ6Qjx12giBcPrK5YE/6P7pXIssKrtuVi7BDj8n2EtaZwSAiUny3Nt3+wF1LUWnqci2lzIOWeblOE/tvV4aof6uglzUGLz3df7NCYh21cUOcRdKDy6aRvD1AJGX5DP1aWayMdcjsYiOpi1S89aSvTCPk39RYV2sfMb9ffa5UuW+9qkFP9LZ04/QLGaV/l7vuoDuGvN3SdtclPFJUnieL5crgvKUtqLPMIighGG1UP7WMuwfsHUhNWWqL0OaPhilpnmbNIeDLW1oIFZqjIuOga8g4Vp6WzkJ0sFtayHje0gLMyaafcfblvd4TvSl5Ccn571/AT1ct7dCLMPb2GgPWU5O+4TPuLTo0wa0OinLu2L1I8gHEp+ebduKjpuGh/o8tLs+kCmR25KaZyuKtm35T2Y2dwJR1zL0qhUAqexGZGxswuWtpolCQuKijc7C+xZpc+HPNNugZfPIb/AtObdGhVHECPTJ4h/uATUA9nVfsKTPZVf8Lp6zsst8wYS6G91ggez8ccCWIcy+cZ6cyxNhBmxu0hmHus8jiEqZ0escmrdZyYaxFV+8eI2B2JEgH3wkwDIGN6GjT1nZxWxmN2ObFJn0GbxV6tVLhXWEc992DKpJSZFIUcQwMTHDyUEGi9/VAWa4aRpJyGk8vfzr4pOje0uJIqucFgb2hFA32UndN+LvpCtTJbWlxbvnrySdW6Kd/FnrUHR9zwWnp6+290dXV2W64MuBwtwaY8fbaa11dN9jrvcYJPrqp9qr1F3PFXtvAQZ3qrf7Jsn0JD7MwGVOX/LjVZOrTF2AidyrMeN+Ae4JFeJK3d2zBfgnb6hAdLS088Ljron5glzI3Q4TM/qb3ozH75Fh/XV5egx27YAiqmRh1EnulKawHRKwu/xsRcV17dTRZnS0TLLjMff3EpN3SU5V3toU60dBwZs03Dqs9Q3bWtkwIlBfb9VkxaD3nqT8trgPGzNCz3kb5GtTnZylvW5yeWbG2nX9wepZelDNLz7gb9/73Y+YXKjnAlppAVlCKzfTra7rpI7lKMcJYB7o+sZMTRkPxKe2oRNekW3twt2dLC+/0RjRNo9nHzja6MzRKIzO47Qn/e4H7vsZihmGMKPJsYuBqvWUXiuxKZL9ZEwXuL1fOxrSNsCu7PUNEp6TqwzxUP+EPtPrTtpIe9weyO+/U7dpaeUprdjJvJHZLc9/tUJ7orT9vMD6xf9Q3VvhjrsEbtweK6Rpr5+t/0Vb+FiqW5zRer1CISOxafVtHeWGrQCxT6n5ensv6IbbFIVTWNOmQK12Gt0bQlxRF1xqLMMR+sLG+x1B8Zl6wH9Nc6CtXe+dUr8oRPWrQdlBZH3Q3rD1hc1WESF8Q5bxTaqnpxOckOZWn1+zSWdQoSVFeqSQ/tDzdm3X+b1dPGfLRO63w/EniqskpfK2i5HhMl7Lk7OUGur7tprbwpkimquuoVEuorOarLQNVhd2oKOVoUUtDUXqgl5DXcbKY8wSZ+rikq4O0mNjFQbm9wPl1nHCpfA1HLBD46g9t+a++4nt8761Ocgs0++ODSzmvvvK9yqE/boHweBH5uC3/lVf+8lQbTwX0h//65qult55GhR750dvKN2vN3sT/+PiB/f+Epcg/1v5V+nt3/iUsGTsnclRpfN79o+/p7nzlS/N/XnvzL195Jf2t2v/8wx/+F5vvHV7OobPL55sliqesB75ehy0N2mQ1mcVbajhfMc/H7vSan+oUiOWjXzt5lgzith2BmbH693oF73Ys9XHR91oaR1iPPBw7gIB7xonc4zjxZueARvMygszh/SZ6K7a0AHPiBR31//vz9e8qfQ0K87C9umls3T7gkJTel19dJiN/1QcbeoeEj/9I4rQszVGpb9Hzn8Zqiaz7/WIjdaaxjtsvxz13gaZG79tE4vCGsu3DNNnY8gJTq9ONqytRpME6Th7ukXGj4H0PiUrtHqmDpmJbsKXFc2wbxzc1OI8qAdp8IVt728fDnyBWX+lr4H1c7wJF/uGpcKOVoKKKIoYTZz/qC0p6vxDnX+uryYjpnvfAEGlLXV7ZrdUNEXZxflONe15C4LhwJ+YJ0M6xHr3257P5Ha2laf7rvXEzkOrxl3XGXwYeIxdq/sCchEpui+LR7lfVlI/03Ur9zcbcsBf79JEIpyESIK6oim9SCLsI69LBrk3Arqa37WaGTrXnnVxrDbEErMbEw8qyS3jgJPIEyI6CvA+JxW7yBQTNahhpUvt89dDGClXb/o5BbeCB1KEqDeYkVHJbFo952Fx4tt3XayLAanp+lg8dCFuGHAQDASDAAwGezMmc3XyboNZZRWoXO8pNKfUxkTzovnNFkD3FeVdwHzc8Ki3r7j7HTmSCAwgAASAQowR4MieuroIThvVcuwnSilt9y2sjxyiN2FHL2V+Rp7/nnZTF6pUgKfpZty7INaljJx+gCRAAAnFDgCdzEje8IpdRylx1Wmv03VVCnNt6Q6+IuTUwIocEUgICQCCWCcBA4VgtHZGy5n1/f4mrv/Z9o8+or1jVHPQCAkAgLgnwZ04ooreuQPW6XH4kM6/CYH7CIAuU5bo2j710VFXcYHSus9hOXKLfMNPC13SX3/Lzl1Ajl6puLK/FsqGEsAMw5HCzNjdTLpe//kZB1Q2CnQRDO/rri7Mzj7yeeVrbZeV/VkzYOoMAIAAEokNgl16vDz9lZrL3P/6H6v+BqiurdD/KeG6sp6vbPDU93tzyj9/69xcu5ItsvZ2/epCg/HevQk/NpmAn7En7Ljo+cP+flgY5zLus9oQMzXc9qzluStimA1OWhpKS//bkleL33is9IXEa/6Gr93f/RA4aeqcVlZf+Hpu58w/d//1/H8hWSp7ftGiIAASAwM4jwIfvZI4wnC4eklR3X8llN3hhv1/7387Qj7In7JSowRrRQPGpenyOG/482qTecGwSNUW4ZkLinIAIXpBJVkwCDUlSbEVy9Zed0Vt8mbxU1PNLnWxpw4OtUdd5qyyvgcq93q5Lcw/IsxpUZ7vYaW/oa3rTdc3jD7JLbrrYAQIlNwYrwlrlmnY+nPrSZxDbJnKTkCiGmZib4AVBgcDWEuBe/2Ee5M2rvRRW3eaxJawwetaztcbh/MI0lBmxEdxPVCY/vKEtQRbG2kpL3DsWhKKUKLvV9L5i41RCkR29OOLcugv4qfM+XpNHXVVXsL7atRel5kfROUtHq2XPqZ5yjy1hhc7Nuju2BJrT7BYgroGH7gnVezGMXfI6nGOyT8duYxVaR2iCQFlnWtxeMBwdIC4QAAJ8EAjfnJAjRkJwvFWzNG17zkG4t9OQYBi3wPrR8pZaqeN5LCeY5a8T0mvuTNTwkbGdJEN0vObyGUeJj9fEdatWL7/ZqN6qthhzf+jOrKw0b3lZH/KhnRu2nJSOcZtLS/JqGxIf0CnHctLXaCQxxPXiyj606HpH0YGNyuFASZ+1ZKNAcB8IAIFtQCB8cyIp6RwtTBQutwkWt90WYUfck/gTktNPFq27+UB0MB0+fDgCCU9MTPCRijC98nKJtbDdsdQrRJl/Utsva80Nb72+QLqhR+tMIwi7u6P3oHCrewjAIcwz9UWYoi4K2Mf11D7umN2l2LMc3Ssmqv8jU+JRzSIkDgT4IRDai4uPkV1JQtTHKpG/J7jBrIJU7BA/GQMpHAFUWnGp3M9fMmMbHd+yYcMJ7E7By18IyJzN9ilnyaRyLIgGUXL+z0ZHTY3qpQYrFCEQAAJxQMDHDvCT28XPWPRQRuoa3SD8pMGLlNDMLy9JhyjkQNHld/G8Oot7rjwqKWjUZwfxbg8xMf9oDty9Y7VIJpf43wjwKwH1sUUBwkT88vYr8YgjggSBQDgE+DYnczbc/Rkrkaf6vuqYOQZNCuoNE/rILrZFtG8njuzyKd7kk7qzfZZmByI6XtdSmR6xziRy3NPixDDfDi6GYRA0bLsR1siuf/2SNDm2v1p8Sg9OgcAOJ8CDOaEdZuM4LVXlcju1LDpOxLK05c9YerhKVeUqvd1TtGFHf3gjuwTZrXd33siu5SeQsXfWdzoQQVpF6yW1e0z28j2ezxjn2McjU99U5GSxe4xT+LidlY8ewnxanGR7QXbnwdbf1iqWk15wGi9Vtz1wMXtz9NcqgjJ34YzsQlDFpZHWExGzqssZhTMgAARWEwjbnEy2l7ADPRlERIrv1qbbH+Bcdz4qTV3+jKXMg5Z5uU6zoS1hI8LIrtVF5L1CDddqr+Hz+/Mbm0r85sp7A/D3nzZfLNSaKCTBjNzuyRfg+KecbPFB6VKLk7EO9D8Sa6own0QZ4lp1/7dquq+aCwu6u+8WpWcH8aKHkV0+BOEUCGxrAuG64inrmHtnDoFU9iIyNzZgco//SRQKEhexOAfrW6zJhe+wkxXgCJ0AbW0uu2h0fVNR3Vyz5atALthxq9vJ/+1U1oA4P+63uCcSCYTe/WdpoqWhl8msKOUGDXsPaqjtzotFBVKaIFwLiYLg+ja9keE/EAAC255AuOZEsF/CtjpER0sLDzzuuqgf2KXMzRAhs7/p/WjMPjnWX5eX12DHLhgqDvq8d7Y9tIhn4El/9fl2OyIt+WljbpjTBoPRPeFFCdvFhUryy9TIiKG61Z6SrWYvOIzd5oekfbi97Exxf1Jp00X/aS8UIjmbhyU5R4w4s1uhzIASD4Y1hAECO4dA+IusMPZbl+t/ccdBoWJ5jq6qQiEijdfq2z4mXIxALFMWvlOeezCITo+dg5TvnMxY9GfL+j8X517p0WdFqo03bWluaBm4TzK7U46drdHmSRG8q76py/JoFhGlpGeXat9SrO28ce8a+/SNnbg8Ad8FC/KAwA4jEL452WFAYiw7jL39XHGzFcGqelrPsC2EWD/srdl51+nc6yb9a7GvbKzDBP2AwPYiEG5n1/bK7TbTlh0odaGs2TovPdvYuB1sCbJgNw6TiFiZI0edw81dOCxfv82eOFAXCIRDAMxJOPS2NC49drW8dpgSqepatUGNud1SbYIS/pnR/DkiPqaRIfaBjhH6z6GTMyhsEAgI7AwCYE5isxwZskervUEmYrrW9/093vzoy9DTFB3aOr7rKDAzSy8IZGkplKl9ZG/h6YPrBIVbQAAI7DQCYE5isUTZKSZlTfj8S/mNV4q2YooJbaxWnbqKz/Odd3lhRdYe/FJ28bC07v3cSA0b4DsXIA8IAIGQCIArfi1sc+Yqldbou2NVkkz3UU/Rfr/A1K1i1SUCeT4xMQFh/c7MAjL/bJ5BNa0jekUY00Npq6HkXJf9m8qGzkZ1MHM//ZQK4sfcWP2pErO81VS74/aGCSL3ECQ6BKJap6KT5fhLlZ/NfXcat//Hrv8lPiR/9VCSyzrlXnHxX6an/9UP8rE9vjld+DpB+Bff2vN/SWLqT3NfzaP70n94QqPOVf/bA3tCtyZTvdq/b/ndc7KKn13Ll4QuxldPv/MFZ/8FXYtV+Nfv1fzVX/jdgR9AYAsJRLFObWGuQLQfAWid+OFY8WOsIbPkhncR+H1FPYM62eo3PNVffFxvP1LTdy1/7akYK4Su85My689q+6cl+U3dNRlb4Mem7b0XyurvUcj+kr5bFdLVeVlHN7gFBPggEOk6xYfOICNIAuA7WQcUOWGl0DS10rNvxxPzkHVp9yqfWE8cLgRNfyPsNRnniOb/VN3/RKS80LIFtoRxftJedjKPsyXstiVqDdgSnyKE04gRiGydili2ICE3ATAngR8ECh97hEgyiopUEncgl9mEr7YnpJVw7ZItblIYWNgGd9g+qPcq2ycQWVnr5WxuT2TeDtpJ3G6vOp2pfqfZMu2WmiBTL+aIt0RAEBAIikAk61RQCkEgPglAf0dAmowVJxBxfppUJtBIftlMLiDU3SHLuwql3wYblG2cRF4qDWaTwoApIbTlUrn+HiU52dp0LryRXAxN/4mmpl0up4t85CAm8DErOes/IBhN02gisPBX4NzCnbglEME6FbeMo5lxMCcB6dtwG/M8JmMnT6CqnJebDQ8RZMZi/IRWqn28Gu7twsTZmKf9ElDWejcYe0dZ1S2SDeK6W3vqHoLsWi808mz5LvPM21hiDcaz+fl5hh1dttGBYm8oYQjvRpTg/pYQiFSd2hLlQeiGBMCcBEDkXqQdZTuxuKWnkrNOYC0P2Z6uWYvJTKl9ZlR8iuP/LMDky7u7BBAX8LJzsLrsGuEePYYwM5TXPgQMH+4NgUKTCdYkXIoQPxQCkapToegGcfggAL6TABS/JIj/hUi8LpHk42q3XUGYB0azxwPhjkeO49SuVEwW6nKHU13VDWbv0LEAmvB6WfSDnCyfxhWvskEYEFiXQGTq1LoqwM0tJQCtk7Xx0r/zOE68XnGRUpNx2TLCIAw+NOzML/Bcp/Dfk8jLOdjutYVsfHV/Uc+Doo2DQQggsP0JRKhObX9Q2zcH0DpZu+zs4zZGIMNeXrorzFBleTYjJIyeLScRhOZ2vZWkYV6bsxQYToAAEFhJAOrUSiI77jeYk7WK1NPJe9ivE0t4VHPM43T4bGjIwcViJnDbvCg1HDf8WonDNSCwAwlAndqBhboyS2BOVhLhfk/j+OdIyncxPy8Diqk8TuwF0mi0s6FIq41KTMUOh+o4WStluAYEdiYBqFM7s1z9cgXmxA+H5wdtxR2IODVtRScWmv7XGs+SjK47AwTjxHESSZEd9rM5a0iDS0AACECdiodnAMzJ6lJmCM5xku7jOPGG+TdqtWdRYZd5YHgU/2zLHCcLZG+F6vXcZmLBm3To/xnnfQs5F3p8iAkEwiYQA3Uq7DyAgA0JgDlZhWjBgVtn0cOH1xj9myDVqKXuCNRQUxvOiFLTJKvi83FhjtXBhezZIwhj5B09Tdo/6TVUZOeUtYz4DG7mQz+QAQQ2QyAW6tRm9IWwoREI43UVWoKxH+sLG/4FkvI3/o4Tr9oSlVp23c42GhiKQpKUW+U4Eaob72YhaMheGcZYmVGLCyRSKTLpYhDoj/OWH/yPCoFYqFNRyXicJQqtk5UFTo2zLpHVjhNvsH1ZmjTvWz7FO8vRe5PP/6HbElYLVN00Pv7bu30dOuULfCoFsoBACARipU6FoDpE2QwBMCf+tBacQ+yywbsk0u/4X1/+laxUeSbIIxK5DJYrWQYDZ0BgTQJQp9bEshMvQmeXp1Rp+7ARnySJe0NmB7tuluWqVv84IyX1aI5iv7ct4i1+UaZG0Wgxz4owuceP4r3By3/KYrhgMJO08GhN649hrUZemIKQqBCImToVldzHZaJgTtzFPjfafrHe/IzrYEK5Pwxl7W/HBcoX1KvNCbI7KydLZL6HYYf4fmQWyK6qNqS0u/2zMnVT11ChsghWkuebMciLEIEYqVMRyi0kwxEAc+J+DpLUjQ/UQT8RqOL9uxNBhw4+IHOvrff5nD4MGb1JIrukqHtjFWpQW9BqW2elYTTB2356Pl3XqVeC3z144hBy6wjERp3auvyB5NUEwJysZhK1K08Zcf4ZpXDGPDQ6y20q7PbMiLIbTdlRUwkSBgJAAAgESQDMSZCgIhEsWV3BLi9M3RrB59gVXcBxEgnmkAYQAAJ8EYCRXXyR5EsOxe1Iz21yBZ1WfCEFOUAACESCALROIkF5E2k8GRqyMoJj6gwhZekcYFQlqfe1xdft6/hOloUnput6wHeyzAPOgAAQiCQBMCeRpL1xWs57ZmJBoFYphK6Brj5X0WmE9Z0Mgu9kY3IQAggAgSgTgM6uKBfAiuRnZ2aRBHa3YMbS0cvkFSq8g7ZWBAv258zTp9w29PRTFx1sFAgHBIAAEAiJwHNff/11SBEh0tYQcBmrKq/is0LJMV2DVhHyrHviiqr4JoXs8lHyGYLsze8Y1MmgRepDBU6BABDgiwCYE75IghwgAASAQFwTgM6uuC5+yDwQAAJAgC8CYE74IglygAAQAAJxTQDMSVwXP2QeCAABIMAXATAnfJEEOUAACACBuCYA5iSuix8yDwSAABDgiwCYE75IghwgAASAQFwTAHMS18UPmQcCQAAI8EUAzAlfJEEOEAACQCCuCYA5ievih8wDASAABPgiAOaEL5IgBwgAASAQ1wTAnMR18UPmgQAQAAJ8EQBzwhdJkAMEgAAQiGsCYE7iuvgh80AACAABvgiAOeGLJMgBAkAACMQ1ATAncV38kHkgAASAAF8EwJzwRRLkAAEgAATimgCYk7gufsg8EAACQIAvAv8fQ/acaSxzNMsAAAAASUVORK5CYII=)"
      ],
      "metadata": {
        "id": "ZZwM7C0s6zqi"
      }
    },
    {
      "cell_type": "code",
      "source": [
        "# Method 1:\n",
        "def simple_mean(numbers):\n",
        "  if len(numbers) == 0:\n",
        "    return float('NaN')\n",
        "  else:\n",
        "   result  = 0\n",
        "   for  i in range(len(numbers)):\n",
        "     result += numbers[i]\n",
        "   return result / len(numbers)\n",
        "\n",
        "simple_mean([])"
      ],
      "metadata": {
        "id": "jd63wlh6HY-h",
        "outputId": "0613a298-5159-4aee-a439-789a7543ba36",
        "colab": {
          "base_uri": "https://localhost:8080/"
        }
      },
      "execution_count": 56,
      "outputs": [
        {
          "output_type": "execute_result",
          "data": {
            "text/plain": [
              "nan"
            ]
          },
          "metadata": {},
          "execution_count": 56
        }
      ]
    },
    {
      "cell_type": "code",
      "source": [
        "# Method 2:\n",
        "\n",
        "def simple_mean2(numbers):\n",
        "  if len(numbers) == 0:\n",
        "    return float('NaN')\n",
        "  else:\n",
        "     return  sum(numbers)/len(numbers)\n",
        "\n",
        "simple_mean([])"
      ],
      "metadata": {
        "id": "MNEVicXa_8Pt",
        "outputId": "8a3a91b7-0e6b-4483-e404-a1cbd93520c9",
        "colab": {
          "base_uri": "https://localhost:8080/"
        }
      },
      "execution_count": 60,
      "outputs": [
        {
          "output_type": "execute_result",
          "data": {
            "text/plain": [
              "nan"
            ]
          },
          "metadata": {},
          "execution_count": 60
        }
      ]
    },
    {
      "cell_type": "code",
      "source": [
        "# Method 3\n",
        "from numpy import mean\n",
        "\n",
        "def simple_mean3(numbers):\n",
        "  if len(numbers) == 0:\n",
        "    return float('NaN')\n",
        "  else:\n",
        "    return mean(numbers)\n",
        "\n",
        "simple_mean3([1,2,3,4])"
      ],
      "metadata": {
        "id": "d-ZD3FKCACvb",
        "outputId": "1add83a0-10b3-4902-f55c-5508cba6658f",
        "colab": {
          "base_uri": "https://localhost:8080/"
        }
      },
      "execution_count": 63,
      "outputs": [
        {
          "output_type": "execute_result",
          "data": {
            "text/plain": [
              "2.5"
            ]
          },
          "metadata": {},
          "execution_count": 63
        }
      ]
    },
    {
      "cell_type": "markdown",
      "source": [
        "4) STD. Calculate the standard deviation of elements in a list.\n",
        "\n",
        "std([1, 2, 3, 4]) = 1.29\n",
        "std([1]) = NaN (use float('NaN'))\n",
        "std([]) = NaN\n",
        "\n",
        "![image.png](data:image/png;base64,iVBORw0KGgoAAAANSUhEUgAAAYUAAAB3CAIAAABjbMu5AAAX1ElEQVR4Ae1dwUvjTvt//6E5FAYKOQgBDwHBsAfLggUPhQWLhw3CFhaWLnwpwtI9WJaXpXvYIEg8WISFHKSC0IUv9SBEkCw/+VVw40EICDkIgR7yMknaZmpT03aSpvYZxGbSdOaZz0w/nXnmeZ75jwMJEAAEAIF0IPCfdIgBUgACgAAg4AAfwSAABACBtCAAfJSWngA5AAFAAPgIxgAgAAikBQHgo7T0BMgBCAACwEcwBgABQCAtCAAfpaUnQA5AABAAPoIxAAgAAmlBAPgoLT0BcgACgADwEYwBQAAQSAsCwEdp6QmQAxAABICP6DHw0ChyCBIgAAhMgYAzcwI+oiG8redwboqegI8AAoCAM3MCPqIhJHxUUB7om5ADBACBRBAAPqJhBj6i8YAcIJAkAsBHNNrARzQekAMEkkQA+IhGG/iIxgNygECSCAAf0WgDH9F4QA4QSBIB4CMabeAjGg/IAQJJIgB8RKMNfETjATlAIEkEgI9otIGPaDwgBwgkiQDwEY028BGNB+QAgSQRAD6i0QY+ovGYR85qbGPUS/zHpjUQolPfwDjLkZTFGHOlU3vwJlwtPgLAR3QfAh/ReMwtZzVLniNhVlIfA1J0bUMt8RlBOtKMAFEFnoDLBUYA+IjuPOAjGo+55a6r4mq+sI4QwsVjMyiGfV7iN+qd4C24fi0IAB/RPQl8ROMxr5xxkOd2Vf0H8W3GBSVISNpXUfiizUswqDdWBICPaHiBj2g85pSz1Pdc4ch07uU8RiiTl+/6ghjyJl86B7VRH5BXdQF8RHcn8BGNx3xydqu8mqvfOI5jNt4R3XbuR2999tgocsVGUKM0HxGh1lgQAD6iYV0wPrKN02qeD04f6OYsaO66JgqVdpdIb50UCSG9qeluliiPNmVjQdsFYr+EAPARjdCdvADxj2zLvNWax7XSJo8QQplc/ZZuxYLnXOVR01+SWarEIZQRqtekVdoXAZRHC96948QHPqLQ+fv3/xFCdw+pDchmN3d7tjmY47wd8dfGRz3lkd8zdvMjaaewpzmOUX8LyiNqxL6yDPAR1aF///5FCD2kl48c41xRTtTWhW7adsv9or62+dFAedQjpN9lMg9cLbfuQXlEDdfXlwE+ovo0/XwUFPd18lFAeeQ31m5XVhFCvPSpyIHyKDgCXt018BHVpcBHFBzzyFDKo54A2hcBuQmURz1IXucr8BHVr8BHFBxzyFiNHa5wGLR/dIW4rooZhBAHlkdz6JMEqwQ+osAGPqLgSDjTtTpnlVwWF37qlru7P6i/26m9Ia4jYHk0wOQ1XgEfUb0KfETBkWTmqipkEPL+iLKo7Nkf9UUg6zhQHvXheKUXwEdUxwIfUXBABhBIFgHgIwpv4CMKDsgAAskiAHxE4Q18RMEBGUAgWQSAjyi8gY8oOCADCCSLAPARhfei8hFxhYcECCw8AsBHVBcCH1FwQAYQSBYB4CMKb+AjCg5GGetKlX/K8o96fYq/7/X6pH8/5OYgfhujNkAxiSAAfETBDHxEwcEoo++LKNnEf2pBBElGvZdoMcBHFNyLyUdiLeX6I1OV3EhNA1Jaq7Qing7SdRzyZ5P0ZFuWZd4bnWutfd5sHMm1vVJxS+R6IVgG5WeLjWc+J1RPQ2YqBMwLubydE1YwzvLCllRTOxG7MWJtwEcUUMBHFBzsMtbvMjG/DiT+Q5MZY9imdipX34tcoIrc916IW3atWPKSTLUkbpQbV4ZlmZ0LpfQGI4TFvai/LFHQAz6iUEo/H1lXqnKoKAdyfb+c9ycdWNiu1A8Ucv+o1Rny/KLaN8eMrX0V6XkMVzxmHHjWumnW3gt+LUKlDWs2hh1Oor5g8YOi9WdEd+5pC0ioXDADGviI6rH085G+L2KMcZZEh6QTuUk8TvvDhWpZCjK2Xt+kGSmbl9mvNO2OWsllSTAASU0tFinojklFuJPz7vQzEH3BkDcRCd3J7vgp4COqW9LPR5S4C5e5UwpejF0yjEnCGzWN2Y+r00/WVT3PIbwVIfK/bWhnmpHSSWW/QbFfGJdN7X5sT9h6vcBjvlC/7j9mNt4hQvyf26zkAz6ikAQ+ouCIIWP+GlZtC/+045jGmKclPiN6pwCEtuNJqxc4flcFPjKOi/xKoX7V55pQzAZvdLWqGyYvf8hs3Q18NIDXcRzgIwqOWDJW65Mf7BH5iS+dMlNtB0Q21fc8/7EZSnZ2R3nH4bc17SnwoeW9tLSvObxSkP9EpST7okI6ki812R2HB3xEDUDgIwqOmDJPWvUNotJKsXEfQ2WPHe3aCOEjq70noFgUWDE0JJkiu3r9LUbrlUjz1W5H3sIoI5TPWP6WAB9RXQ18RMERW8b+U3dVzqif8Jac5M6gZ3+Q+6bH1sTFLPi6JmYQ/+nFLXy78yOPM7x0wmyl5uEFfESNG+AjCo44M53DYdV2bj8O1faoNnR1Ev12heVCY1Q1i3jPUnc5lBGrYxVJ1u+KmBVKKmMychwH+IgaNH+v/osQ+vl/qT0PkpJ2wTNEv4OCKSNW/g1ZXTFtqvmLHHnLcJeaqXSMCnvSm0euSdphyP+jpj4KbE8rxL1XQ5dht0pxVRws0x477T+jCpqqHcBHNGz3cj5bUICOaFTiyj02y0Oq7dUSO6vtMKldq5mMWPsT9sCruH/vmwuhsBR2rHFXr62HH8L+2K5siMH9B+tEYrjsBT6iBx/wEY1H3DnrwjvIaPCl4XYa7JcBwWbc1nMZhISqtvQ2R0FUgtfaHpm35n48c7jpdpSdnHTSsT3ourZtmeoHvngC86Mgfgyv7+U8hvkRQ0BfLMrWv+doq21cOHj2TXixmMgPdH7kiAkfBAAIR8w+KxGr1eHTXKzW56HZLHKTULkML2vCd2aYH9235E8FcZXDGPPrhfKhFrrgnFCmeT4OfJQ8+t3OM6vtXG1gBMxWILPxjrBfwOkhpHxTUz7nBY44sud2qs072+mare9STuDwilDYWwQTyqmb4K31MO1v480r0bOUYfn7PSUf2X/kAofwulRX29pVW/1W5DM4H+fPWsioYX0b+Ig1opHKe2gMW21HtIKJVHrgoW67vEJs+CoXgZvPLu0bpbiK+e2aeqFrZ9V8FiFBKu/wWJDk31rrG/FFSXn8gJma0G35KLGb+DzDePSNqfioq9c3EMJ52Y/CZ+uHRT6D0LsovpyWca1pl1P9XelmVNtRurVP7ebvaEtc4rLMku9pOSAXioB1VhoKSCKMMa0OLealN+4V4hQapsr1Pv2kVdcx/77RcyKxGtvITULl0nbulAJx1kX4vTrdYPQqiff/rE3okC84wgwVQxHbOw0f2b/LZHm5UfdX+V2tskp6SNjTXq71xtUmkscnTxlO+hWNVhwqkaNNt6PF5wI+opBLMmO1vwyFkeSlX6x1AP4puOOiIHR+5jFXbAz2WA15C5Hk6lPss5Kr7cKFkU5bD2ppnRM+hzupJILoTE0gElqeo6z4LUZF3kgkpuEjw9UIomy+fu2xg91Ra9Xvqp5OP6CnVnkVoWy0o9+Bj0YOk2Ru2q6/AgokrqCwjYTt/ZRiqRm6uUamBvznQLjbpyaxVkJI3HeNubtG+1iW1ZG2O47zb4XPcLlvSRl2ju6X2ZpAyrTV94R1+SgzjNEyTHl3Kj46zKNe4oRc8VNNvUnv1NU4yHs/aJEmnxPyUQ+GZX91WKXbZ6rtzbrOcHB5sxuu1ArlI8d5svz9bK9RFxXXavMFlVMfANuOJu5jR7uaXGtx1THHSN4XYrYmOI7T/EC+NNynVr/IZC6m4SPnQZWIUjCQcK421sDcmVfyJkeupHgngnoL+CjQq9EvGXaveUKrtrN5+ZZd8R4frZTH8RFdW+c7sQ9AnNRkOv3Xvw4tTkklEVJUWnQCaYomtD66fPRxIfjIcewbtbqT492Jhw/i2546KQDE3C+NwwL3JufHSY2yZJuQj+bewNcogNX82LNzyQhBU2AGjfXWa9lS+HptqBJTce0D8Lto+sehT6ciO0UT7Oauy0ef089Hlmn1fyi6lnGhSGuIJCyp/fvjumGm/TUjUhW96p/aFYEvnRneYjjSfgHwUQ+8eb4+KAX361A46ERb/EQW9tIN2YOlqHtjPeXRkLGy/TQsl3VZL24I/KpYYu3yHrltIQ9GbkLg85a6Qzog0g5V4GOzX062XjNOJLKvT0dgslWJyB5xDjzL/hrCxUn218jk6G2903WsX0UiIUJ456WIysBHs4+pGUvoGg3iZ4tzXyLF4ZmsNi8IdCY/xkXR+tNUDhq+da+vPKJMkK3TEpfJy8GATQ8N6W2p+eB+jdfm74kyTRMoHP3A2EMsTD0ST2YiPvKsEhCiLXSsY/JjlroT+GxvcuTuAD6qRddmBGWL6vhYdndyjm5dPLBDqWEIWO09sryOK4as3ZSyiMTTuA4R4Kbuea/wbkxo/yRLau5vNra5oeWb9kXM/zQccgJHwA4mpIbYb0/VBEoqPxAtlk6Hp4HUYzFkJuGjbodEjcFiORj3xIv1l2W9LztzU62Tojc5ckuyGu78k6wqx8+wgI9mRn6GAuzOAQmKxG3JLPfUKIF8S7+wBZt5VEAkccUT0yHrfS830H+TJUJ2yJ3FbP2oNR8c+3eZH+mGSgkQe2aqJtBSWSpZUGRydfanv9AVPctNwkeOYxwXOcTlPivNq07nVm+fyuUNDmVzlXPWdmvPBJ34hqW3ffMo8lHrpLdkez92yQZ8NDHQzD5gnhITbbxeaY2fw85WYfsz2b73jYmeFeVF/+F35PZ1W94V8JpU3uYR4osHbf2m3fic47JC6dfIAAR28wOHMn2nhWdFJ3Vjhib0RLxy4/SvVtpRbAt6H2LyOhkfOQ4xfSxtCeSE4gzm1vLSntIef0wKEzFnL+Sx0VuySeOWbMBHs0M9VQn2VY1EsOWLDbYGkM+E8Z3Xt5SQn1BbPy7n1zic5cWdWuveHfJfCqJ7QrT4rtII/MhRZVuqRE5YUkZyFfVk7Jlpm9ATzDggBoZz0cBMykc9kRfvNdqS7a4O+qM59O1do8gjlE3Eiu2pSaJp4Gj2+pGxcPdMcOHIdJ40ZV9N2s8ispwRHrQa20SDV/43aeXRcsWrNaMs2W6BjyKMWLaPPLbKJCAh45MqwmW02/8IhJCOQ2ZI4Z8Mf8fdWcsWG6ZjqRI/XicQXkoq3nlokP2pOe0SLs/8yHHMhq9DytKBXYKjAPgoiEYC1096fQsT/fFhglOKW3LwfKTTa6Mi4PrcbsqGpdU2c+OD4Uctck7PGT/zrMl6gpYsEx85pjsR9Ww3Q+IEAB9NMHhmfrRrNHZdU6OvWkh/zFaFbZkP1qhVh00OX0N8+feoN6eq0zyv5AVeWM+XR2u7pyo0+Q9ZrvP5m1gOMY/SmqXiI8c89mdI3G7ILhtDPvI2KdAg4fXnlnLupgzGHMdxKzy3wnEk3CaK5GoXpXsZPGMbp9U8H8e2kW9qJHyMKYQ/WZfhsDgzVqu8hvBbps66DNCebxG2vp/DWJyjL+py8dFgycaFLNkY8tF9SzmU5Z/10hvPONwNSzisI7Q7Z3J9v1Jc8w3IhXfl6ndZvYplujDBYLct81ZrHtdKm65z+/gAZhOU23/U1n+6pkbvZNYuIb0q/tRzeFzALPu6lsvi3LfYTJ16gizKK9nixFz+xzwBWTI+cvzwycRfe+QMiSEf+cOwZ9SOSOI+BgLrBMapG+UL57/Pcyj0xPF9KYm4ZN5GXl8IqNj7ZPRXU3VNjTaqMbiEuFI8NMvrmJz4OJbYzXP3XEOmJz5HByFdT96r0mo8PjqTtHPZ+MgxXe8WQg27o8Yqcz4ylUIGibuSmEEkcdKoWh1y6AXTuOiTjIHhZ41zRTlRWxe6adutjy4hMZ0fWRdV4pOxKqlBF7BhKabP27eN0jqZb0axoDH/rUnbtTYzPdL0Ys/1k3Z7vyB9i+vXIXrTlo6PHNPdzgyjBtZ8ZJ9KOCNULjryJnLTSIcVV9Hej/8bvffif5I5H9m3SnEFIa4g/4mBA7pm+0ASPV9FJFQuYqgifsyXuYbl4yPHDwdD5iqnz2bzrPmo/Q+PuFLTdswjN4QGQiM0rDax0Es+tkOUcc+Yj8xmeY24QDI/F9t+0Js/y/nVvqpubhY0UVCFZ8IQWEI+GlDDiCUbWz5yPZDxthuX0uw5rOCCMrROuawIGa50lsYfc5Z89KTV3mKU4aWZd8TtJ8u86+gXLfVYru2VihtUZEDkpuRj0Yd9x+B+dASWkY8cP9wXIjOXoQBvbPnogSiPekFkLHXXUw4jEpsikEg4UdbuC4HiZ7pkxkfdjrLtqaIwx/P86kt/fD9xxAzC++M4nA3MgFB4SoFf60y4L+uHl5KPHNOLP0gIaSjCC1M+slSiPKpe+YPL9+QMHhVF3jGVwvOzidMyHhnxkRly1DKKKeFCGvxa09KJCyTHcvJRYMn2oUktk5jyEQltsVIa7PDbLRIgh2yfi7V+PDBLlbJI+OqepZO+gcOEj8wTifO2F93Wx/4vg0n0IkgLiMCS8lHoko0hH3X12huivQ7qzDXipkCS8KV3dua/ZT7DMXRcYDsImfARW5GgtFeMwLLyUXDJFlQkM+Qj92jmIVWRc131DZFWK57NC4mIOsa/d95DD/ho3j2wXPUvLR85xqF3TiTigks2dnxk/aKUR/6w8mL+ImKsVz63Hcf1C9+SKf12hBFo3ena5eSnCd6Y1OI0QkXARxFAgkeYIbC8fOTcKz4hrQR22Zjxkd36xJEzV54RADHFdhP3oWk9khAoYbFTwzvZkDejbTN5NfX/P99PDK/De2fAR4mHUn5JNHj/FSKwxHzkGMoWclPA9ocVH3X16lqIm/49Cb5DEic1Tkoc06gXDusEfMQaUShvHALLzEeOFyeYMEPfzZUVH7nnfA0rj/yO6BuIY47n0qw8chwnVj6yfldzPC8x2Qt71FuXsKc27qu+EO8tNR8593Le24deKbU8w0hGfESOMwlYHg0Nhf5hJwghlIoI8EMCDrKx8pH+TcRZsXIe3IEcVB3pyraMm7b6vZTnEf7QjPQReCjFCCw3H3nqZERmSCWiXXYcNnzkRlkLWh4NjQD3LApSLULit5RaHnki9/hIrMWjP7Kf6de8eiP9/1MTMebX8sUCsaIAPooEWrofWnI+erZkY8JHpiqtjDe5dgkLeRHaUj1A4uYjNo0/K2HgIzZQzrmUZecjxzvQHSF/L2wWPrI7rSO5/oWsHUjKcPmP1fphUx+1HPHOMiXKoyEHujmPB1K9daUqh4pyINf3y35bEBa2K/UDhdw/anUSPybwBVSAj14AaGHeXno+coxeZCKOGATNwkcXFT6DcD95milcUB5GjYauXlsfFXtk1LMJ39P3RdKIrBvVm0T27idyk7j+jmLYSYS09aNSbp3n14ry9SwLtl6dwEc9JBb9FfjIcQ94QX44wVn4aNHHQlLyW+fl3I5iWK3yCtnZZFAt8BEDEFNRBPCRM1iy8eUWCQIfMqNJRX+9AiE69U2RxDz4UxMziN/z/Pis5mdxfBASoZfE3cawOTvw0SsYF24TgI8c4rThB5PlSwc14KN4x7atyV/JcdL6VxEhoXLJojbgIxYopqEM4CPSC8bPng/HVl6E+VECA7OrVQUSUlZnohoHPkqgyxKpAvjIhfm2nusH6EnNOR+JDID5VGJfVHiGtlfAR/PpRva1Ah95mHbqb5GfgI/YD7OhEu3WJ56c6XbjODeN6pHuOFbrH7GnIHrpFfRHQ3C+oizwkd+Zfbf79JyD9oqGGd0Um+ysoU3ZcMiR1vmDYfU0/XSEHMyPIoC0EI8AH/W6qb9kg/lRD5K4Xp9UCSPhq2bfyoU35daM1kxd2zgqEvvsd4qRPuPSuDB8peUCH/U7tnewNfBRH5K4Lizte0FYFYS3JWWWUyFJ9Chiokn9YVw8npHh4mo2lPsiAsBHA4jIuUPEzwPsjwaYwBUgkCQCwEcBtG/cXTbgowAkcAkIJIkA8FEQbXfJBnwUhASuAYEEEQA+osAmSzbgIwoSyAACySEAfJQc1lATIAAIjEcA+Gg8PvAuIAAIJIcA8FFyWENNgAAgMB4B4KPx+MC7gAAgkBwCwEfJYQ01AQKAwHgEgI/G4wPvAgKAQHIIAB8lhzXUBAgAAuMR+B96+tHhGpyr4AAAAABJRU5ErkJggg==)"
      ],
      "metadata": {
        "id": "39cTpUd8B5Hn"
      }
    },
    {
      "cell_type": "code",
      "source": [
        "#Method 1\n",
        "import math\n",
        "import numpy as np\n",
        "def std(numbers):\n",
        "  if len(numbers) > 1:\n",
        "    result = 0\n",
        "    for i in range(li en(numbers)):\n",
        "      result += (numbers[i] - np.mean(numbers))**2\n",
        "    return math.sqrt((1/(len(numbers)-1)) * result)\n",
        "  else:\n",
        "    return float('NaN')"
      ],
      "metadata": {
        "id": "Jx3_82vgDMWF"
      },
      "execution_count": 114,
      "outputs": []
    },
    {
      "cell_type": "code",
      "source": [
        "std([1,2,3,4])"
      ],
      "metadata": {
        "id": "vayzh4L6DP8m",
        "outputId": "3327fe54-8f50-41ce-e652-c6784bc43c99",
        "colab": {
          "base_uri": "https://localhost:8080/"
        }
      },
      "execution_count": 117,
      "outputs": [
        {
          "output_type": "execute_result",
          "data": {
            "text/plain": [
              "1.2909944487358056"
            ]
          },
          "metadata": {},
          "execution_count": 117
        }
      ]
    },
    {
      "cell_type": "code",
      "source": [
        "# Method 2:\n",
        "from math import sqrt\n",
        "from statistics import mean\n",
        "\n",
        "def std2(numbers):\n",
        "  if len(numbers) > 1:\n",
        "    sum = sum((i - mean(numbers))**2 for i in numbers)\n",
        "    return sqrt(sum/(len(numbers)-1))\n",
        "  else:\n",
        "    return float('NaN')"
      ],
      "metadata": {
        "id": "PSsla2jDFikS"
      },
      "execution_count": 130,
      "outputs": []
    },
    {
      "cell_type": "code",
      "source": [
        "std([1,2,3,4])"
      ],
      "metadata": {
        "id": "zYVXwOaEL7kd",
        "outputId": "4091f744-e7b0-4682-831c-f0f58d07af81",
        "colab": {
          "base_uri": "https://localhost:8080/"
        }
      },
      "execution_count": 131,
      "outputs": [
        {
          "output_type": "execute_result",
          "data": {
            "text/plain": [
              "1.2909944487358056"
            ]
          },
          "metadata": {},
          "execution_count": 131
        }
      ]
    },
    {
      "cell_type": "code",
      "source": [],
      "metadata": {
        "id": "QC6CgNaiMGfu"
      },
      "execution_count": null,
      "outputs": []
    }
  ]
}