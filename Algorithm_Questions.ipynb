{
  "cells": [
    {
      "cell_type": "markdown",
      "metadata": {
        "id": "view-in-github",
        "colab_type": "text"
      },
      "source": [
        "<a href=\"https://colab.research.google.com/github/aminKMT/Interview-DataScience-Algorithem/blob/main/Algorithm_Questions.ipynb\" target=\"_parent\"><img src=\"https://colab.research.google.com/assets/colab-badge.svg\" alt=\"Open In Colab\"/></a>"
      ]
    },
    {
      "cell_type": "markdown",
      "source": [
        "Question 1: Two sum. Given an array and a number N, return True if there are numbers A, B in the array such that A + B = N. Otherwise, return False.\n",
        "\n",
        "[1, 2, 3, 4], 5 ⇒ True\n",
        "[3, 4, 6], 6 ⇒ False\n"
      ],
      "metadata": {
        "id": "d0WgOxom4LhR"
      }
    },
    {
      "cell_type": "markdown",
      "source": [
        "Mwthod 1; using two for loop:"
      ],
      "metadata": {
        "id": "y9GfqCsB7bIK"
      }
    },
    {
      "cell_type": "code",
      "execution_count": null,
      "metadata": {
        "id": "kmaFJQ_G0wXS"
      },
      "outputs": [],
      "source": [
        "def two_sum(numbers, target):\n",
        "    n = len(numbers)\n",
        "\n",
        "    for i in range(n):\n",
        "        for j in range(i + 1, n):\n",
        "            if numbers[i] + numbers[j] == target:\n",
        "                return True\n",
        "\n",
        "    return False"
      ]
    },
    {
      "cell_type": "code",
      "execution_count": null,
      "metadata": {
        "colab": {
          "base_uri": "https://localhost:8080/"
        },
        "id": "914On0f-3fC0",
        "outputId": "9eefed9b-1d91-4d08-d51e-323417009e5c"
      },
      "outputs": [
        {
          "data": {
            "text/plain": [
              "False"
            ]
          },
          "execution_count": 7,
          "metadata": {},
          "output_type": "execute_result"
        }
      ],
      "source": [
        "two_sum([1,2,3,4], 10)"
      ]
    },
    {
      "cell_type": "markdown",
      "source": [],
      "metadata": {
        "id": "aeDNCatL4Inr"
      }
    },
    {
      "cell_type": "markdown",
      "source": [],
      "metadata": {
        "id": "cg89A7rM7lwn"
      }
    },
    {
      "cell_type": "markdown",
      "source": [
        "Method 2: Using combination form itertool library:"
      ],
      "metadata": {
        "id": "sFmhoLPg7gi9"
      }
    },
    {
      "cell_type": "code",
      "execution_count": null,
      "metadata": {
        "id": "PP_km7a74AFF",
        "colab": {
          "base_uri": "https://localhost:8080/",
          "height": 35
        },
        "outputId": "650a3277-cc4d-4e4a-cdfa-5cbbd989e160"
      },
      "outputs": [
        {
          "output_type": "execute_result",
          "data": {
            "text/plain": [
              "'pen'"
            ],
            "application/vnd.google.colaboratory.intrinsic+json": {
              "type": "string"
            }
          },
          "metadata": {},
          "execution_count": 4
        }
      ],
      "source": [
        "from itertools import combinations\n",
        "\n",
        "def two_sum(numbers, target):\n",
        "    for elem in combinations(numbers, 2):\n",
        "        if elem[0] + elem[1] == target:\n",
        "            return True\n",
        "    return False"
      ]
    },
    {
      "cell_type": "markdown",
      "source": [
        "Question 2: 2) Fibonacci. Return the n-th Fibonacci number, which is computed using this formula:\n",
        "\n",
        "F(0) = 0\n",
        "F(1) = 1\n",
        "F(n) = F(n-1) + F(n-2)\n",
        "The sequence is: 0, 1, 1, 2, 3, 5, 8, 13, 21, 34, 55, 89, ...\n"
      ],
      "metadata": {
        "id": "W6b-LqWrReqj"
      }
    },
    {
      "cell_type": "markdown",
      "source": [
        "Method 1:"
      ],
      "metadata": {
        "id": "gU0ShHOqTRDe"
      }
    },
    {
      "cell_type": "code",
      "source": [
        "def fibonacci(n):\n",
        "  if n == 0 or n==1:\n",
        "    return n\n",
        "  else:\n",
        "    return fibonacci(n-1)+fibonacci(n-2)\n",
        "\n"
      ],
      "metadata": {
        "id": "Fg3PwqJgReES"
      },
      "execution_count": null,
      "outputs": []
    },
    {
      "cell_type": "code",
      "source": [
        "def fibonacci2(n):\n",
        "  base1, base2 = 0, 1\n",
        "  for i in range(n):\n",
        "    base1, base2 = base2, base1+base2\n",
        "  return base1\n"
      ],
      "metadata": {
        "id": "WhJ2e_FJTTCR"
      },
      "execution_count": null,
      "outputs": []
    },
    {
      "cell_type": "code",
      "source": [
        "#Why it's slow (Exponential complexity):\n",
        "#It recalculates the same numbers multiple times.\n",
        "#@For example, calculating fibonacci(5) breaks down like this:\n",
        "\n",
        "                    fibonacci(5)\n",
        "                   /            \\\n",
        "          fibonacci(4)        fibonacci(3)\n",
        "         /         \\            /       \\\n",
        "    fibonacci(3) fibonacci(2) fibonacci(2) fibonacci(1)\n",
        "     /     \\        /     \\        /   \\\n",
        "    f(2)  f(1)   f(1)  f(0)    f(1)  f(0)\n",
        "    /   \\\n",
        "  f(1) f(0)\n"
      ],
      "metadata": {
        "id": "IcrKXxMOCW2P"
      },
      "execution_count": null,
      "outputs": []
    },
    {
      "cell_type": "markdown",
      "source": [
        "Question 3) Most frequent outcome. We have two dice of different sizes (D1 and D2). We roll them and sum their face values. What are the most probable outcomes?"
      ],
      "metadata": {
        "id": "5yJ0TWppl1vq"
      }
    },
    {
      "cell_type": "code",
      "source": [
        "from itertools import combinations\n",
        "\n",
        "a = [1,2,3,4,5,6]\n",
        "for elem in combinations(a, 2):\n",
        "  d =  elem[0] + elem[1]\n",
        "  print(f\"{elem}, {d}\")\n"
      ],
      "metadata": {
        "id": "PpXgq6K1mD56"
      },
      "execution_count": null,
      "outputs": []
    },
    {
      "cell_type": "code",
      "source": [
        "from itertools import product\n",
        "a = [1,2]\n",
        "b = [1,2,3,4]\n",
        "\n",
        "for elem in product(a, b):\n",
        "  d = elem[0] + elem[1]\n",
        "  print (f\"{elem} = {d}\")"
      ],
      "metadata": {
        "id": "Lk7F-oR8-zZ8"
      },
      "execution_count": null,
      "outputs": []
    },
    {
      "cell_type": "code",
      "source": [
        "for i in range(1,5):\n",
        "  print(i)"
      ],
      "metadata": {
        "id": "kYAFHzDtt7im"
      },
      "execution_count": null,
      "outputs": []
    },
    {
      "cell_type": "code",
      "source": [
        "def most_frequent_outcome(d1, d2):\n",
        "    len_ans = abs(d1 - d2) + 1 # Indicates the number of highest frequency sum outputs.\n",
        "    mi = min(d1, d2)\n",
        "    ans = [mi + i for i in range(1, len_ans + 1)] # Range (1, 5) : 1,2,3,4\n",
        "    return ans"
      ],
      "metadata": {
        "id": "nmSI7HQ5m0bs"
      },
      "execution_count": 2,
      "outputs": []
    },
    {
      "cell_type": "code",
      "source": [
        "most_frequent_outcome(6, 6)"
      ],
      "metadata": {
        "colab": {
          "base_uri": "https://localhost:8080/"
        },
        "id": "AHMLT326xogV",
        "outputId": "0876a932-563a-422b-f816-4460d1d4a5e7"
      },
      "execution_count": 3,
      "outputs": [
        {
          "output_type": "execute_result",
          "data": {
            "text/plain": [
              "[7]"
            ]
          },
          "metadata": {},
          "execution_count": 3
        }
      ]
    },
    {
      "cell_type": "markdown",
      "source": [
        "Question 4 :Reverse a linked list. Write a function for reversing a linked list.\n",
        "\n",
        "The definition of a list node: Node(value, next)\n",
        "Example: a -> b -> c ⇒ c -> b -> a"
      ],
      "metadata": {
        "id": "0-v0Zu2HMinw"
      }
    },
    {
      "cell_type": "code",
      "source": [
        "'''Understanding the problem:\n",
        "\n",
        "a, b, c\n",
        "c, b, a\n",
        "iteration 1:\n",
        "a.next = last = None\n",
        "last = a\n",
        "point = b\n",
        "\n",
        "iteration 2:\n",
        "b.next = last = a\n",
        "last = b\n",
        "point = b.next = c\n",
        "\n",
        "iteration 3 :\n",
        "c.next = last = b\n",
        "last = c\n",
        "point = c.next = None\n",
        "\n",
        "return  c\n"
      ],
      "metadata": {
        "id": "wmK1Jkwhj9JN"
      },
      "execution_count": null,
      "outputs": []
    },
    {
      "cell_type": "code",
      "source": [
        "from ast import Break\n",
        "# let's make the Noe class to test the function later:\n",
        "class Node:\n",
        "  def __init__(self, value):\n",
        "    self.value = value\n",
        "    self.next = None\n",
        "\n",
        "  def path_print(self):\n",
        "    while self is not None:\n",
        "       if self.next is not None:\n",
        "         print(self.value, end = \" -> \")\n",
        "         self = self.next\n",
        "       else:\n",
        "         print(self.value)\n",
        "         break\n",
        "    print(\"\")\n",
        "\n",
        "    # Make the reverse maker:\n",
        "  def reverse_ll(self):\n",
        "      head = self\n",
        "      if head is None or head.next is None:  # If the list is empty or has one node, return it\n",
        "        return head\n",
        "\n",
        "      last = None  # Previous node\n",
        "      point = head # Curremt node\n",
        "      while point is not None:\n",
        "        point.next, last, point = last, point, point.next # Swap pointers\n",
        "      return last # Return the new head of the reserved list\n",
        "\n",
        "\n"
      ],
      "metadata": {
        "colab": {
          "base_uri": "https://localhost:8080/"
        },
        "id": "L-2J8wKRMqpQ",
        "outputId": "655146a0-c047-44e2-a566-1edbd617e61c"
      },
      "execution_count": 18,
      "outputs": [
        {
          "output_type": "stream",
          "name": "stdout",
          "text": [
            "a -> b -> c\n",
            "\n",
            "c -> b -> a\n",
            "\n"
          ]
        }
      ]
    },
    {
      "cell_type": "code",
      "source": [
        "# Testing the reverse maker function:\n",
        "\n",
        "\n",
        "a = Node(\"a\")\n",
        "b = Node(\"b\")\n",
        "c = Node(\"c\")\n",
        "\n",
        "a.next = b\n",
        "b.next = c\n",
        "\n",
        "a.path_print()\n",
        "new_head = a.reverse_ll()\n",
        "new_head.path_print() # or c.path_print()\n"
      ],
      "metadata": {
        "id": "8OFnJBNnkeQN"
      },
      "execution_count": null,
      "outputs": []
    }
  ],
  "metadata": {
    "colab": {
      "provenance": [],
      "authorship_tag": "ABX9TyNnMZco9TOJ836gMTeVFyEg",
      "include_colab_link": true
    },
    "kernelspec": {
      "display_name": "Python 3",
      "name": "python3"
    },
    "language_info": {
      "name": "python"
    }
  },
  "nbformat": 4,
  "nbformat_minor": 0
}