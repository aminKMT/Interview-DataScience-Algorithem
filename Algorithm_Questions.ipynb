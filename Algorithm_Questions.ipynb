{
  "cells": [
    {
      "cell_type": "markdown",
      "metadata": {
        "id": "view-in-github",
        "colab_type": "text"
      },
      "source": [
        "<a href=\"https://colab.research.google.com/github/aminKMT/Interview-DataScience-Algorithem/blob/main/Algorithm_Questions.ipynb\" target=\"_parent\"><img src=\"https://colab.research.google.com/assets/colab-badge.svg\" alt=\"Open In Colab\"/></a>"
      ]
    },
    {
      "cell_type": "markdown",
      "source": [
        "Question 1: Two sum. Given an array and a number N, return True if there are numbers A, B in the array such that A + B = N. Otherwise, return False.\n",
        "\n",
        "[1, 2, 3, 4], 5 ⇒ True\n",
        "[3, 4, 6], 6 ⇒ False\n"
      ],
      "metadata": {
        "id": "d0WgOxom4LhR"
      }
    },
    {
      "cell_type": "markdown",
      "source": [
        "Mwthod 1; using two for loop:"
      ],
      "metadata": {
        "id": "y9GfqCsB7bIK"
      }
    },
    {
      "cell_type": "code",
      "execution_count": null,
      "metadata": {
        "id": "kmaFJQ_G0wXS"
      },
      "outputs": [],
      "source": [
        "def two_sum(numbers, target):\n",
        "    n = len(numbers)\n",
        "\n",
        "    for i in range(n):\n",
        "        for j in range(i + 1, n):\n",
        "            if numbers[i] + numbers[j] == target:\n",
        "                return True\n",
        "\n",
        "    return False"
      ]
    },
    {
      "cell_type": "code",
      "execution_count": null,
      "metadata": {
        "colab": {
          "base_uri": "https://localhost:8080/"
        },
        "id": "914On0f-3fC0",
        "outputId": "9eefed9b-1d91-4d08-d51e-323417009e5c"
      },
      "outputs": [
        {
          "data": {
            "text/plain": [
              "False"
            ]
          },
          "execution_count": 7,
          "metadata": {},
          "output_type": "execute_result"
        }
      ],
      "source": [
        "two_sum([1,2,3,4], 10)"
      ]
    },
    {
      "cell_type": "markdown",
      "source": [],
      "metadata": {
        "id": "aeDNCatL4Inr"
      }
    },
    {
      "cell_type": "markdown",
      "source": [],
      "metadata": {
        "id": "cg89A7rM7lwn"
      }
    },
    {
      "cell_type": "markdown",
      "source": [
        "Method 2: Using combination form itertool library:"
      ],
      "metadata": {
        "id": "sFmhoLPg7gi9"
      }
    },
    {
      "cell_type": "code",
      "execution_count": null,
      "metadata": {
        "id": "PP_km7a74AFF",
        "colab": {
          "base_uri": "https://localhost:8080/",
          "height": 35
        },
        "outputId": "650a3277-cc4d-4e4a-cdfa-5cbbd989e160"
      },
      "outputs": [
        {
          "output_type": "execute_result",
          "data": {
            "text/plain": [
              "'pen'"
            ],
            "application/vnd.google.colaboratory.intrinsic+json": {
              "type": "string"
            }
          },
          "metadata": {},
          "execution_count": 4
        }
      ],
      "source": [
        "from itertools import combinations\n",
        "\n",
        "def two_sum(numbers, target):\n",
        "    for elem in combinations(numbers, 2):\n",
        "        if elem[0] + elem[1] == target:\n",
        "            return True\n",
        "    return False"
      ]
    },
    {
      "cell_type": "markdown",
      "source": [
        "Question 2: 2) Fibonacci. Return the n-th Fibonacci number, which is computed using this formula:\n",
        "\n",
        "F(0) = 0\n",
        "F(1) = 1\n",
        "F(n) = F(n-1) + F(n-2)\n",
        "The sequence is: 0, 1, 1, 2, 3, 5, 8, 13, 21, 34, 55, 89, ...\n"
      ],
      "metadata": {
        "id": "W6b-LqWrReqj"
      }
    },
    {
      "cell_type": "markdown",
      "source": [
        "Method 1:"
      ],
      "metadata": {
        "id": "gU0ShHOqTRDe"
      }
    },
    {
      "cell_type": "code",
      "source": [
        "def fibonacci(n):\n",
        "  if n == 0 or n==1:\n",
        "    return n\n",
        "  else:\n",
        "    return fibonacci(n-1)+fibonacci(n-2)\n",
        "\n"
      ],
      "metadata": {
        "id": "Fg3PwqJgReES"
      },
      "execution_count": null,
      "outputs": []
    },
    {
      "cell_type": "code",
      "source": [
        "def fibonacci2(n):\n",
        "  base1, base2 = 0, 1\n",
        "  for i in range(n):\n",
        "    base1, base2 = base2, base1+base2\n",
        "  return base1\n"
      ],
      "metadata": {
        "id": "WhJ2e_FJTTCR"
      },
      "execution_count": null,
      "outputs": []
    },
    {
      "cell_type": "code",
      "source": [
        "#Why it's slow (Exponential complexity):\n",
        "#It recalculates the same numbers multiple times.\n",
        "#@For example, calculating fibonacci(5) breaks down like this:\n",
        "\n",
        "                    fibonacci(5)\n",
        "                   /            \\\n",
        "          fibonacci(4)        fibonacci(3)\n",
        "         /         \\            /       \\\n",
        "    fibonacci(3) fibonacci(2) fibonacci(2) fibonacci(1)\n",
        "     /     \\        /     \\        /   \\\n",
        "    f(2)  f(1)   f(1)  f(0)    f(1)  f(0)\n",
        "    /   \\\n",
        "  f(1) f(0)\n"
      ],
      "metadata": {
        "id": "IcrKXxMOCW2P"
      },
      "execution_count": null,
      "outputs": []
    },
    {
      "cell_type": "markdown",
      "source": [
        "Question 3) Most frequent outcome. We have two dice of different sizes (D1 and D2). We roll them and sum their face values. What are the most probable outcomes?"
      ],
      "metadata": {
        "id": "5yJ0TWppl1vq"
      }
    },
    {
      "cell_type": "code",
      "source": [
        "from itertools import combinations\n",
        "\n",
        "a = [1,2,3,4,5,6]\n",
        "for elem in combinations(a, 2):\n",
        "  d =  elem[0] + elem[1]\n",
        "  print(f\"{elem}, {d}\")\n"
      ],
      "metadata": {
        "id": "PpXgq6K1mD56"
      },
      "execution_count": null,
      "outputs": []
    },
    {
      "cell_type": "code",
      "source": [
        "from itertools import product\n",
        "a = [1,2]\n",
        "b = [1,2,3,4]\n",
        "\n",
        "for elem in product(a, b):\n",
        "  d = elem[0] + elem[1]\n",
        "  print (f\"{elem} = {d}\")"
      ],
      "metadata": {
        "id": "Lk7F-oR8-zZ8"
      },
      "execution_count": null,
      "outputs": []
    },
    {
      "cell_type": "code",
      "source": [
        "for i in range(1,5):\n",
        "  print(i)"
      ],
      "metadata": {
        "id": "kYAFHzDtt7im"
      },
      "execution_count": null,
      "outputs": []
    },
    {
      "cell_type": "code",
      "source": [
        "def most_frequent_outcome(d1, d2):\n",
        "    len_ans = abs(d1 - d2) + 1 # Indicates the number of highest frequency sum outputs.\n",
        "    mi = min(d1, d2)\n",
        "    ans = [mi + i for i in range(1, len_ans + 1)] # Range (1, 5) : 1,2,3,4\n",
        "    return ans"
      ],
      "metadata": {
        "id": "nmSI7HQ5m0bs"
      },
      "execution_count": null,
      "outputs": []
    },
    {
      "cell_type": "code",
      "source": [
        "most_frequent_outcome(6, 6)"
      ],
      "metadata": {
        "colab": {
          "base_uri": "https://localhost:8080/"
        },
        "id": "AHMLT326xogV",
        "outputId": "0876a932-563a-422b-f816-4460d1d4a5e7"
      },
      "execution_count": null,
      "outputs": [
        {
          "output_type": "execute_result",
          "data": {
            "text/plain": [
              "[7]"
            ]
          },
          "metadata": {},
          "execution_count": 3
        }
      ]
    },
    {
      "cell_type": "markdown",
      "source": [
        "Question 4 :Reverse a linked list. Write a function for reversing a linked list.\n",
        "\n",
        "The definition of a list node: Node(value, next)\n",
        "Example: a -> b -> c ⇒ c -> b -> a"
      ],
      "metadata": {
        "id": "0-v0Zu2HMinw"
      }
    },
    {
      "cell_type": "code",
      "source": [
        "'''Understanding the problem:\n",
        "\n",
        "a, b, c\n",
        "c, b, a\n",
        "iteration 1:\n",
        "a.next = last = None\n",
        "last = a\n",
        "point = b\n",
        "\n",
        "iteration 2:\n",
        "b.next = last = a\n",
        "last = b\n",
        "point = b.next = c\n",
        "\n",
        "iteration 3 :\n",
        "c.next = last = b\n",
        "last = c\n",
        "point = c.next = None\n",
        "\n",
        "return  c\n"
      ],
      "metadata": {
        "id": "wmK1Jkwhj9JN"
      },
      "execution_count": null,
      "outputs": []
    },
    {
      "cell_type": "code",
      "source": [
        "from ast import Break\n",
        "# let's make the Node class to test the function later:\n",
        "class Node:\n",
        "  def __init__(self, value):\n",
        "    self.value = value\n",
        "    self.next = None\n",
        "\n",
        "  def path_print(self):\n",
        "    while self is not None:\n",
        "       if self.next is not None:\n",
        "         print(self.value, end = \" -> \")\n",
        "         self = self.next\n",
        "       else:\n",
        "         print(self.value)\n",
        "         break\n",
        "    print(\"\")\n",
        "\n",
        "    # Make the reverse maker:\n",
        "  def reverse_ll(self):\n",
        "      head = self\n",
        "      if head is None or head.next is None:  # If the list is empty or has one node, return it\n",
        "        return head\n",
        "\n",
        "      last = None  # Previous node\n",
        "      point = head # Curremt node\n",
        "      while point is not None:\n",
        "        point.next, last, point = last, point, point.next # Swap pointers\n",
        "      return last # Return the new head of the reserved list\n",
        "\n",
        "\n"
      ],
      "metadata": {
        "colab": {
          "base_uri": "https://localhost:8080/"
        },
        "id": "L-2J8wKRMqpQ",
        "outputId": "655146a0-c047-44e2-a566-1edbd617e61c"
      },
      "execution_count": null,
      "outputs": [
        {
          "output_type": "stream",
          "name": "stdout",
          "text": [
            "a -> b -> c\n",
            "\n",
            "c -> b -> a\n",
            "\n"
          ]
        }
      ]
    },
    {
      "cell_type": "code",
      "source": [
        "# Testing the reverse maker function:\n",
        "\n",
        "\n",
        "a = Node(\"a\")\n",
        "b = Node(\"b\")\n",
        "c = Node(\"c\")\n",
        "\n",
        "a.next = b\n",
        "b.next = c\n",
        "\n",
        "a.path_print()\n",
        "new_head = a.reverse_ll()\n",
        "new_head.path_print() # or c.path_print()\n"
      ],
      "metadata": {
        "id": "8OFnJBNnkeQN"
      },
      "execution_count": null,
      "outputs": []
    },
    {
      "cell_type": "markdown",
      "source": [
        "Question 5) Flip a binary tree. Write a function for rotating a binary tree.\n",
        "\n",
        "The definition of a tree node: Node(value, left, right)\n",
        "![image.png](data:image/png;base64,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)"
      ],
      "metadata": {
        "id": "N5AA8n4r171t"
      }
    },
    {
      "cell_type": "code",
      "source": [
        "# define the Node Class\n",
        "\n",
        "class Node:\n",
        "    def __init__(self, value):\n",
        "        self.value = value\n",
        "        self.left = None\n",
        "        self.right = None\n",
        "\n",
        "\n",
        "def flip_tree(node):\n",
        " if node is not None:\n",
        "  node.left, node.right = node.right, node.left\n",
        "  flip_tree(node.left)\n",
        "  flip_tree(node.right)\n",
        "\n",
        "\n",
        "def print_tree(node, level=0, label=\"Root:\"):\n",
        "    \"\"\"Recursively prints the binary tree in a visually indented format.\"\"\"\n",
        "    if node is not None:\n",
        "        # Print current node with indentation\n",
        "        print(\" \" * (level * 4) + f\"{label} {node.value}\")\n",
        "        # Recursively print left and right subtrees\n",
        "        print_tree(node.left, level + 1, \"L---\")\n",
        "        print_tree(node.right, level + 1, \"R---\")\n",
        "\n",
        "\n",
        "ten = Node(10)\n",
        "one = Node(1)\n",
        "twenty= Node(20)\n",
        "fifteen = Node(15)\n",
        "therty = Node(30)\n",
        "twelwe = Node(12)\n",
        "seventeen = Node(17)\n",
        "\n",
        "ten.left = one\n",
        "ten.right = twenty\n",
        "twenty.left = fifteen\n",
        "twenty.right = therty\n",
        "fifteen.left = twelwe\n",
        "fifteen.right = seventeen\n",
        "\n",
        "print(\"Original Tree:\")\n",
        "print_tree(ten)\n",
        "print('flipped tree')\n",
        "flip_tree(ten)\n",
        "print_tree(ten)\n",
        "\n",
        "\n"
      ],
      "metadata": {
        "id": "rQMv49fW2Igw",
        "outputId": "5de527a2-6e2d-4c48-a01a-78e6cc484bb1",
        "colab": {
          "base_uri": "https://localhost:8080/"
        }
      },
      "execution_count": 15,
      "outputs": [
        {
          "output_type": "stream",
          "name": "stdout",
          "text": [
            "Original Tree:\n",
            "Root: 10\n",
            "    L--- 1\n",
            "    R--- 20\n",
            "        L--- 15\n",
            "            L--- 12\n",
            "            R--- 17\n",
            "        R--- 30\n",
            "flipped tree\n",
            "Root: 10\n",
            "    L--- 20\n",
            "        L--- 30\n",
            "        R--- 15\n",
            "            L--- 17\n",
            "            R--- 12\n",
            "    R--- 1\n"
          ]
        }
      ]
    },
    {
      "cell_type": "code",
      "source": [],
      "metadata": {
        "id": "ODSQCH4l27FQ"
      },
      "execution_count": null,
      "outputs": []
    }
  ],
  "metadata": {
    "colab": {
      "provenance": [],
      "authorship_tag": "ABX9TyOReWgoi8K0F3Zomc2ogWOh",
      "include_colab_link": true
    },
    "kernelspec": {
      "display_name": "Python 3",
      "name": "python3"
    },
    "language_info": {
      "name": "python"
    }
  },
  "nbformat": 4,
  "nbformat_minor": 0
}